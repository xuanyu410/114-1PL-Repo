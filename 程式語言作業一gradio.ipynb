{
  "nbformat": 4,
  "nbformat_minor": 0,
  "metadata": {
    "colab": {
      "provenance": [],
      "authorship_tag": "ABX9TyOqe9DwEYrQrCv4RoOowa5+",
      "include_colab_link": true
    },
    "kernelspec": {
      "name": "python3",
      "display_name": "Python 3"
    },
    "language_info": {
      "name": "python"
    }
  },
  "cells": [
    {
      "cell_type": "markdown",
      "metadata": {
        "id": "view-in-github",
        "colab_type": "text"
      },
      "source": [
        "<a href=\"https://colab.research.google.com/github/xuanyu410/114-1PL-Repo/blob/main/%E7%A8%8B%E5%BC%8F%E8%AA%9E%E8%A8%80%E4%BD%9C%E6%A5%AD%E4%B8%80gradio.ipynb\" target=\"_parent\"><img src=\"https://colab.research.google.com/assets/colab-badge.svg\" alt=\"Open In Colab\"/></a>"
      ]
    },
    {
      "cell_type": "markdown",
      "source": [
        "#試算表個人記帳(作業一)\n",
        "##使用者輸入\n",
        "- 可自行加入日期時間或輸入現在日期時間。\n",
        "- 輸入品項後可選擇屬於哪個種類，與輸入金額。\n",
        "- [使用者頁面](https://eb28f74669f0fcd1b7.gradio.live)\n",
        "##統計消費總額\n",
        "- 可計算出當日總額和當月總額。\n",
        "- 製作各種類總花費圓餅圖。\n",
        "- [試算表連結](https://docs.google.com/spreadsheets/d/1UIfts0iHJzLn6VdOeuT3WS7UKDEdS5dylr9WxK1BhFA/edit?gid=0#gid=0)\n"
      ],
      "metadata": {
        "id": "TZHo0eQGH6Df"
      }
    },
    {
      "cell_type": "code",
      "execution_count": 19,
      "metadata": {
        "id": "-9zhnY0jmuN5"
      },
      "outputs": [],
      "source": [
        "# 安裝需要的套件\n",
        "!pip install -q gradio gspread pandas matplotlib pillow\n",
        "\n",
        "# === Google 驗證 ===\n",
        "from google.colab import auth\n",
        "auth.authenticate_user()\n",
        "\n",
        "import gspread\n",
        "from google.auth import default\n",
        "import pandas as pd\n",
        "from datetime import datetime\n",
        "import gradio as gr\n",
        "import matplotlib.pyplot as plt\n",
        "from io import BytesIO\n",
        "from PIL import Image"
      ]
    },
    {
      "cell_type": "code",
      "source": [
        "# === 連線到試算表 ===\n",
        "creds, _ = default()\n",
        "gc = gspread.authorize(creds)\n",
        "\n",
        "SPREADSHEET_URL = \"https://docs.google.com/spreadsheets/d/1UIfts0iHJzLn6VdOeuT3WS7UKDEdS5dylr9WxK1BhFA/edit?gid=0#gid=0\"\n",
        "ss = gc.open_by_url(SPREADSHEET_URL)\n",
        "worksheet = ss.worksheet(\"工作表1\")\n",
        "\n",
        "# === 確保標題列 ===\n",
        "headers = [\"日期\", \"時間\", \"品項\", \"種類\", \"金額\"]\n",
        "if worksheet.row_values(1) != headers:\n",
        "    worksheet.clear()\n",
        "    worksheet.append_row(headers, value_input_option=\"RAW\")\n"
      ],
      "metadata": {
        "id": "CmdlfFHan3Se"
      },
      "execution_count": 20,
      "outputs": []
    },
    {
      "cell_type": "code",
      "source": [
        "# === 工具函式 ===\n",
        "def _read_sheet_to_df():\n",
        "    rows = worksheet.get_all_values()\n",
        "    if len(rows) <= 1:\n",
        "        return pd.DataFrame(columns=headers)\n",
        "    df = pd.DataFrame(rows[1:], columns=rows[0])\n",
        "    df = df.loc[:, ~df.columns.duplicated()].copy()\n",
        "    df[\"金額\"] = pd.to_numeric(df[\"金額\"].replace(r\"[^\\d.\\-]+\", \"\", regex=True), errors=\"coerce\").fillna(0.0)\n",
        "    df[\"日期_dt\"] = pd.to_datetime(df[\"日期\"], errors=\"coerce\")\n",
        "    df[\"日期_str\"] = df[\"日期_dt\"].dt.strftime(\"%Y-%m-%d\")\n",
        "    return df\n",
        "\n",
        "def _make_pie_image(summary, title=\"\"):\n",
        "    if summary.empty: return None\n",
        "    fig, ax = plt.subplots(figsize=(5,5))\n",
        "    ax.pie(summary[\"金額\"], labels=summary[\"種類\"], autopct=\"%1.1f%%\", startangle=90)\n",
        "    ax.set_title(title)\n",
        "    buf = BytesIO()\n",
        "    plt.tight_layout()\n",
        "    fig.savefig(buf, format=\"png\")\n",
        "    plt.close(fig)\n",
        "    buf.seek(0)\n",
        "    return Image.open(buf).convert(\"RGB\")"
      ],
      "metadata": {
        "id": "yWirdvnjn7HV"
      },
      "execution_count": 21,
      "outputs": []
    },
    {
      "cell_type": "code",
      "source": [
        "# === 寫入支出 ===\n",
        "def add_expense(date_str, time_str, item, category, amount):\n",
        "    try:\n",
        "        amount_val = float(amount)\n",
        "    except:\n",
        "        return \"❌ 金額必須是數字\", None\n",
        "\n",
        "    if not date_str:\n",
        "        date_str = datetime.now().strftime(\"%Y-%m-%d\")\n",
        "    if not time_str:\n",
        "        time_str = datetime.now().strftime(\"%H:%M\")\n",
        "\n",
        "    worksheet.append_row([date_str, time_str, item, category, amount_val], value_input_option=\"RAW\")\n",
        "    return f\"✅ 已新增：{date_str} | {time_str} | {item} | {category} | {amount_val}\", None\n",
        "\n",
        "# === 查詢每日總支出 ===\n",
        "def show_today_total(date_str):\n",
        "    df = _read_sheet_to_df()\n",
        "    if df.empty: return \"無資料\", None\n",
        "    target = df[df[\"日期_str\"] == date_str]\n",
        "    if target.empty: return f\"{date_str} 無資料\", None\n",
        "    total = target[\"金額\"].sum()\n",
        "    cat_summary = target.groupby(\"種類\", as_index=False)[\"金額\"].sum()\n",
        "    img = _make_pie_image(cat_summary, f\"{date_str} 各種類支出\")\n",
        "    msg = f\"📅 {date_str} 總支出：{int(total)} 元\\n\\n{cat_summary.to_string(index=False)}\"\n",
        "    return msg, img\n",
        "\n",
        "# === 查詢每月總支出 ===\n",
        "def show_month_total(month_str):\n",
        "    try:\n",
        "        year, month = map(int, month_str.split(\"-\"))\n",
        "    except:\n",
        "        return \"❌ 輸入格式錯誤 (需 YYYY-MM)\", None\n",
        "    df = _read_sheet_to_df()\n",
        "    if df.empty: return \"無資料\", None\n",
        "    target = df[(df[\"日期_dt\"].dt.year == year) & (df[\"日期_dt\"].dt.month == month)]\n",
        "    if target.empty: return f\"{month_str} 無資料\", None\n",
        "    total = target[\"金額\"].sum()\n",
        "    cat_summary = target.groupby(\"種類\", as_index=False)[\"金額\"].sum()\n",
        "    img = _make_pie_image(cat_summary, f\"{month_str} 各種類支出\")\n",
        "    msg = f\"🗓️ {month_str} 總支出：{int(total)} 元\\n\\n{cat_summary.to_string(index=False)}\"\n",
        "    return msg, img\n",
        "\n",
        "# === 日期時間按鈕 ===\n",
        "def fill_today(): return datetime.now().strftime(\"%Y-%m-%d\")\n",
        "def fill_nowtime(): return datetime.now().strftime(\"%H:%M\")\n",
        "\n",
        "# === Gradio UI ===\n",
        "categories = [\"早餐\", \"午餐\", \"晚餐\", \"點心\", \"飲料\", \"衣服\", \"娛樂\", \"交通\"]\n",
        "\n",
        "with gr.Blocks() as demo:\n",
        "    gr.Markdown(\"## 📝 個人記帳系統\")\n",
        "\n",
        "    with gr.Tab(\"新增支出\"):\n",
        "        with gr.Row():\n",
        "            date_in = gr.Textbox(label=\"日期 (YYYY-MM-DD)\")\n",
        "            btn_today = gr.Button(\"📅 今天\")\n",
        "            time_in = gr.Textbox(label=\"時間 (HH:MM)\")\n",
        "            btn_now = gr.Button(\"⏰ 現在時間\")\n",
        "        item_in = gr.Textbox(label=\"品項\")\n",
        "        amount_in = gr.Textbox(label=\"金額\")\n",
        "        cat_in = gr.Dropdown(choices=categories, label=\"種類\", value=\"午餐\")\n",
        "        submit_btn = gr.Button(\"✅ 新增記錄\")\n",
        "        out_text = gr.Textbox(label=\"結果\")\n",
        "with gr.Blocks() as demo:\n",
        "    gr.Markdown(\"## 📝 個人記帳系統\")\n",
        "\n",
        "    with gr.Tab(\"新增支出\"):\n",
        "        # 👇 All these lines must be indented by one level (4 spaces)\n",
        "        with gr.Row():\n",
        "            date_in = gr.Textbox(label=\"日期 (YYYY-MM-DD)\")\n",
        "            btn_today = gr.Button(\"📅 今天\")\n",
        "            time_in = gr.Textbox(label=\"時間 (HH:MM)\")\n",
        "            btn_now = gr.Button(\"⏰ 現在時間\")\n",
        "        item_in = gr.Textbox(label=\"品項\") # Correctly indented\n",
        "        amount_in = gr.Textbox(label=\"金額\")\n",
        "        cat_in = gr.Dropdown(choices=categories, label=\"種類\", value=\"午餐\")\n",
        "        submit_btn = gr.Button(\"✅ 新增記錄\")\n",
        "        out_text = gr.Textbox(label=\"結果\")\n",
        "        out_img = gr.Image(label=\"交易圖表\", visible=False) # (Also includes the fix from the last prompt)\n",
        "\n",
        "        btn_today.click(fn=fill_today, inputs=None, outputs=date_in)\n",
        "        btn_now.click(fn=fill_nowtime, inputs=None, outputs=time_in)\n",
        "        submit_btn.click(add_expense, [date_in,time_in,item_in,cat_in,amount_in], [out_text,out_img])\n",
        "\n",
        "\n",
        "    with gr.Tab(\"查詢當日總支出\"):\n",
        "        date_q = gr.Textbox(label=\"日期 (YYYY-MM-DD)\")\n",
        "        btn_day = gr.Button(\"📅 查詢當日總支出\")\n",
        "        day_out = gr.Textbox(label=\"結果\")\n",
        "        day_img = gr.Image(label=\"圓餅圖\")\n",
        "        btn_day.click(show_today_total, [date_q], [day_out, day_img])\n",
        "\n",
        "    with gr.Tab(\"查詢當月總支出\"):\n",
        "        month_q = gr.Textbox(label=\"月份 (YYYY-MM)\", placeholder=\"例如 2025-09\")\n",
        "        btn_month = gr.Button(\"🗓️ 查詢當月總支出\")\n",
        "        month_out = gr.Textbox(label=\"結果\")\n",
        "        month_img = gr.Image(label=\"圓餅圖\")\n",
        "        btn_month.click(show_month_total, [month_q], [month_out, month_img])\n",
        "\n",
        "demo.launch(share=True)"
      ],
      "metadata": {
        "colab": {
          "base_uri": "https://localhost:8080/",
          "height": 611
        },
        "id": "L0gWSxMwoBl1",
        "outputId": "8b369ac3-f1d8-4c6f-f613-3d08d8963500"
      },
      "execution_count": 22,
      "outputs": [
        {
          "output_type": "stream",
          "name": "stdout",
          "text": [
            "Colab notebook detected. To show errors in colab notebook, set debug=True in launch()\n",
            "* Running on public URL: https://3201f6b05a0b358669.gradio.live\n",
            "\n",
            "This share link expires in 1 week. For free permanent hosting and GPU upgrades, run `gradio deploy` from the terminal in the working directory to deploy to Hugging Face Spaces (https://huggingface.co/spaces)\n"
          ]
        },
        {
          "output_type": "display_data",
          "data": {
            "text/plain": [
              "<IPython.core.display.HTML object>"
            ],
            "text/html": [
              "<div><iframe src=\"https://3201f6b05a0b358669.gradio.live\" width=\"100%\" height=\"500\" allow=\"autoplay; camera; microphone; clipboard-read; clipboard-write;\" frameborder=\"0\" allowfullscreen></iframe></div>"
            ]
          },
          "metadata": {}
        },
        {
          "output_type": "execute_result",
          "data": {
            "text/plain": []
          },
          "metadata": {},
          "execution_count": 22
        }
      ]
    }
  ]
}