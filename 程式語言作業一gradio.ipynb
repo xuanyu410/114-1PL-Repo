{
  "nbformat": 4,
  "nbformat_minor": 0,
  "metadata": {
    "colab": {
      "provenance": [],
      "authorship_tag": "ABX9TyOynswI46WlWl1OTlMGZXvJ",
      "include_colab_link": true
    },
    "kernelspec": {
      "name": "python3",
      "display_name": "Python 3"
    },
    "language_info": {
      "name": "python"
    }
  },
  "cells": [
    {
      "cell_type": "markdown",
      "metadata": {
        "id": "view-in-github",
        "colab_type": "text"
      },
      "source": [
        "<a href=\"https://colab.research.google.com/github/xuanyu410/114-1PL-Repo/blob/main/%E7%A8%8B%E5%BC%8F%E8%AA%9E%E8%A8%80%E4%BD%9C%E6%A5%AD%E4%B8%80gradio.ipynb\" target=\"_parent\"><img src=\"https://colab.research.google.com/assets/colab-badge.svg\" alt=\"Open In Colab\"/></a>"
      ]
    },
    {
      "cell_type": "code",
      "execution_count": 7,
      "metadata": {
        "colab": {
          "base_uri": "https://localhost:8080/"
        },
        "id": "-9zhnY0jmuN5",
        "outputId": "ecee020e-cd1e-404d-ff36-aa1c2e0adb79"
      },
      "outputs": [
        {
          "output_type": "stream",
          "name": "stdout",
          "text": [
            "Requirement already satisfied: gradio in /usr/local/lib/python3.12/dist-packages (5.44.1)\n",
            "Requirement already satisfied: gspread in /usr/local/lib/python3.12/dist-packages (6.2.1)\n",
            "Requirement already satisfied: pandas in /usr/local/lib/python3.12/dist-packages (2.2.2)\n",
            "Requirement already satisfied: aiofiles<25.0,>=22.0 in /usr/local/lib/python3.12/dist-packages (from gradio) (24.1.0)\n",
            "Requirement already satisfied: anyio<5.0,>=3.0 in /usr/local/lib/python3.12/dist-packages (from gradio) (4.10.0)\n",
            "Requirement already satisfied: brotli>=1.1.0 in /usr/local/lib/python3.12/dist-packages (from gradio) (1.1.0)\n",
            "Requirement already satisfied: fastapi<1.0,>=0.115.2 in /usr/local/lib/python3.12/dist-packages (from gradio) (0.116.1)\n",
            "Requirement already satisfied: ffmpy in /usr/local/lib/python3.12/dist-packages (from gradio) (0.6.1)\n",
            "Requirement already satisfied: gradio-client==1.12.1 in /usr/local/lib/python3.12/dist-packages (from gradio) (1.12.1)\n",
            "Requirement already satisfied: groovy~=0.1 in /usr/local/lib/python3.12/dist-packages (from gradio) (0.1.2)\n",
            "Requirement already satisfied: httpx<1.0,>=0.24.1 in /usr/local/lib/python3.12/dist-packages (from gradio) (0.28.1)\n",
            "Requirement already satisfied: huggingface-hub<1.0,>=0.33.5 in /usr/local/lib/python3.12/dist-packages (from gradio) (0.34.4)\n",
            "Requirement already satisfied: jinja2<4.0 in /usr/local/lib/python3.12/dist-packages (from gradio) (3.1.6)\n",
            "Requirement already satisfied: markupsafe<4.0,>=2.0 in /usr/local/lib/python3.12/dist-packages (from gradio) (3.0.2)\n",
            "Requirement already satisfied: numpy<3.0,>=1.0 in /usr/local/lib/python3.12/dist-packages (from gradio) (2.0.2)\n",
            "Requirement already satisfied: orjson~=3.0 in /usr/local/lib/python3.12/dist-packages (from gradio) (3.11.3)\n",
            "Requirement already satisfied: packaging in /usr/local/lib/python3.12/dist-packages (from gradio) (25.0)\n",
            "Requirement already satisfied: pillow<12.0,>=8.0 in /usr/local/lib/python3.12/dist-packages (from gradio) (11.3.0)\n",
            "Requirement already satisfied: pydantic<2.12,>=2.0 in /usr/local/lib/python3.12/dist-packages (from gradio) (2.11.7)\n",
            "Requirement already satisfied: pydub in /usr/local/lib/python3.12/dist-packages (from gradio) (0.25.1)\n",
            "Requirement already satisfied: python-multipart>=0.0.18 in /usr/local/lib/python3.12/dist-packages (from gradio) (0.0.20)\n",
            "Requirement already satisfied: pyyaml<7.0,>=5.0 in /usr/local/lib/python3.12/dist-packages (from gradio) (6.0.2)\n",
            "Requirement already satisfied: ruff>=0.9.3 in /usr/local/lib/python3.12/dist-packages (from gradio) (0.12.12)\n",
            "Requirement already satisfied: safehttpx<0.2.0,>=0.1.6 in /usr/local/lib/python3.12/dist-packages (from gradio) (0.1.6)\n",
            "Requirement already satisfied: semantic-version~=2.0 in /usr/local/lib/python3.12/dist-packages (from gradio) (2.10.0)\n",
            "Requirement already satisfied: starlette<1.0,>=0.40.0 in /usr/local/lib/python3.12/dist-packages (from gradio) (0.47.3)\n",
            "Requirement already satisfied: tomlkit<0.14.0,>=0.12.0 in /usr/local/lib/python3.12/dist-packages (from gradio) (0.13.3)\n",
            "Requirement already satisfied: typer<1.0,>=0.12 in /usr/local/lib/python3.12/dist-packages (from gradio) (0.17.4)\n",
            "Requirement already satisfied: typing-extensions~=4.0 in /usr/local/lib/python3.12/dist-packages (from gradio) (4.15.0)\n",
            "Requirement already satisfied: uvicorn>=0.14.0 in /usr/local/lib/python3.12/dist-packages (from gradio) (0.35.0)\n",
            "Requirement already satisfied: fsspec in /usr/local/lib/python3.12/dist-packages (from gradio-client==1.12.1->gradio) (2025.3.0)\n",
            "Requirement already satisfied: websockets<16.0,>=10.0 in /usr/local/lib/python3.12/dist-packages (from gradio-client==1.12.1->gradio) (15.0.1)\n",
            "Requirement already satisfied: google-auth>=1.12.0 in /usr/local/lib/python3.12/dist-packages (from gspread) (2.38.0)\n",
            "Requirement already satisfied: google-auth-oauthlib>=0.4.1 in /usr/local/lib/python3.12/dist-packages (from gspread) (1.2.2)\n",
            "Requirement already satisfied: python-dateutil>=2.8.2 in /usr/local/lib/python3.12/dist-packages (from pandas) (2.9.0.post0)\n",
            "Requirement already satisfied: pytz>=2020.1 in /usr/local/lib/python3.12/dist-packages (from pandas) (2025.2)\n",
            "Requirement already satisfied: tzdata>=2022.7 in /usr/local/lib/python3.12/dist-packages (from pandas) (2025.2)\n",
            "Requirement already satisfied: idna>=2.8 in /usr/local/lib/python3.12/dist-packages (from anyio<5.0,>=3.0->gradio) (3.10)\n",
            "Requirement already satisfied: sniffio>=1.1 in /usr/local/lib/python3.12/dist-packages (from anyio<5.0,>=3.0->gradio) (1.3.1)\n",
            "Requirement already satisfied: cachetools<6.0,>=2.0.0 in /usr/local/lib/python3.12/dist-packages (from google-auth>=1.12.0->gspread) (5.5.2)\n",
            "Requirement already satisfied: pyasn1-modules>=0.2.1 in /usr/local/lib/python3.12/dist-packages (from google-auth>=1.12.0->gspread) (0.4.2)\n",
            "Requirement already satisfied: rsa<5,>=3.1.4 in /usr/local/lib/python3.12/dist-packages (from google-auth>=1.12.0->gspread) (4.9.1)\n",
            "Requirement already satisfied: requests-oauthlib>=0.7.0 in /usr/local/lib/python3.12/dist-packages (from google-auth-oauthlib>=0.4.1->gspread) (2.0.0)\n",
            "Requirement already satisfied: certifi in /usr/local/lib/python3.12/dist-packages (from httpx<1.0,>=0.24.1->gradio) (2025.8.3)\n",
            "Requirement already satisfied: httpcore==1.* in /usr/local/lib/python3.12/dist-packages (from httpx<1.0,>=0.24.1->gradio) (1.0.9)\n",
            "Requirement already satisfied: h11>=0.16 in /usr/local/lib/python3.12/dist-packages (from httpcore==1.*->httpx<1.0,>=0.24.1->gradio) (0.16.0)\n",
            "Requirement already satisfied: filelock in /usr/local/lib/python3.12/dist-packages (from huggingface-hub<1.0,>=0.33.5->gradio) (3.19.1)\n",
            "Requirement already satisfied: requests in /usr/local/lib/python3.12/dist-packages (from huggingface-hub<1.0,>=0.33.5->gradio) (2.32.4)\n",
            "Requirement already satisfied: tqdm>=4.42.1 in /usr/local/lib/python3.12/dist-packages (from huggingface-hub<1.0,>=0.33.5->gradio) (4.67.1)\n",
            "Requirement already satisfied: hf-xet<2.0.0,>=1.1.3 in /usr/local/lib/python3.12/dist-packages (from huggingface-hub<1.0,>=0.33.5->gradio) (1.1.9)\n",
            "Requirement already satisfied: annotated-types>=0.6.0 in /usr/local/lib/python3.12/dist-packages (from pydantic<2.12,>=2.0->gradio) (0.7.0)\n",
            "Requirement already satisfied: pydantic-core==2.33.2 in /usr/local/lib/python3.12/dist-packages (from pydantic<2.12,>=2.0->gradio) (2.33.2)\n",
            "Requirement already satisfied: typing-inspection>=0.4.0 in /usr/local/lib/python3.12/dist-packages (from pydantic<2.12,>=2.0->gradio) (0.4.1)\n",
            "Requirement already satisfied: six>=1.5 in /usr/local/lib/python3.12/dist-packages (from python-dateutil>=2.8.2->pandas) (1.17.0)\n",
            "Requirement already satisfied: click>=8.0.0 in /usr/local/lib/python3.12/dist-packages (from typer<1.0,>=0.12->gradio) (8.2.1)\n",
            "Requirement already satisfied: shellingham>=1.3.0 in /usr/local/lib/python3.12/dist-packages (from typer<1.0,>=0.12->gradio) (1.5.4)\n",
            "Requirement already satisfied: rich>=10.11.0 in /usr/local/lib/python3.12/dist-packages (from typer<1.0,>=0.12->gradio) (13.9.4)\n",
            "Requirement already satisfied: pyasn1<0.7.0,>=0.6.1 in /usr/local/lib/python3.12/dist-packages (from pyasn1-modules>=0.2.1->google-auth>=1.12.0->gspread) (0.6.1)\n",
            "Requirement already satisfied: oauthlib>=3.0.0 in /usr/local/lib/python3.12/dist-packages (from requests-oauthlib>=0.7.0->google-auth-oauthlib>=0.4.1->gspread) (3.3.1)\n",
            "Requirement already satisfied: charset_normalizer<4,>=2 in /usr/local/lib/python3.12/dist-packages (from requests->huggingface-hub<1.0,>=0.33.5->gradio) (3.4.3)\n",
            "Requirement already satisfied: urllib3<3,>=1.21.1 in /usr/local/lib/python3.12/dist-packages (from requests->huggingface-hub<1.0,>=0.33.5->gradio) (2.5.0)\n",
            "Requirement already satisfied: markdown-it-py>=2.2.0 in /usr/local/lib/python3.12/dist-packages (from rich>=10.11.0->typer<1.0,>=0.12->gradio) (4.0.0)\n",
            "Requirement already satisfied: pygments<3.0.0,>=2.13.0 in /usr/local/lib/python3.12/dist-packages (from rich>=10.11.0->typer<1.0,>=0.12->gradio) (2.19.2)\n",
            "Requirement already satisfied: mdurl~=0.1 in /usr/local/lib/python3.12/dist-packages (from markdown-it-py>=2.2.0->rich>=10.11.0->typer<1.0,>=0.12->gradio) (0.1.2)\n"
          ]
        }
      ],
      "source": [
        "!pip install gradio gspread pandas\n",
        "\n",
        "from google.colab import auth\n",
        "auth.authenticate_user()\n",
        "\n",
        "import gspread\n",
        "from google.auth import default\n",
        "import pandas as pd\n",
        "from datetime import datetime\n",
        "import gradio as gr"
      ]
    },
    {
      "cell_type": "code",
      "source": [
        "# === Google Sheets 認證 ===\n",
        "creds, _ = default()\n",
        "gc = gspread.authorize(creds)\n",
        "gsheets = gc.open_by_url(\n",
        "    \"https://docs.google.com/spreadsheets/d/1UIfts0iHJzLn6VdOeuT3WS7UKDEdS5dylr9WxK1BhFA/edit?gid=0#gid=0\"\n",
        ")\n",
        "worksheet = gsheets.worksheet(\"工作表1\")\n",
        "\n",
        "# === 檢查標題列 ===\n",
        "headers = [\"日期\", \"時間\", \"品項\", \"種類\", \"金額\"]\n",
        "first_row = worksheet.row_values(1)\n",
        "if not first_row or first_row != headers:\n",
        "    worksheet.clear()\n",
        "    worksheet.append_row(headers)"
      ],
      "metadata": {
        "id": "CmdlfFHan3Se"
      },
      "execution_count": 8,
      "outputs": []
    },
    {
      "cell_type": "code",
      "source": [
        "# === 每日總支出 ===\n",
        "def update_day_total(df, worksheet, date_str):\n",
        "    target_data = df[(df[\"日期_str\"] == date_str) & (df[\"品項\"] != \"當天總支出\")]\n",
        "    day_total = target_data[\"金額\"].sum()\n",
        "\n",
        "    # 找到當日最後一筆\n",
        "    rows = worksheet.findall(date_str)\n",
        "    last_row_day = rows[-1].row if rows else len(worksheet.get_all_values())\n",
        "\n",
        "    sheet_rows = worksheet.get_all_values()\n",
        "\n",
        "    # 更新 or 插入「當天總支出」\n",
        "    if last_row_day < len(sheet_rows) and \"當天總支出\" in sheet_rows[last_row_day]:\n",
        "        cell = f\"E{last_row_day + 1}\"\n",
        "        worksheet.update(cell, [[day_total]], value_input_option=\"RAW\")\n",
        "    else:\n",
        "        worksheet.insert_row(\n",
        "            [date_str, \"\", \"當天總支出\", \"\", day_total],\n",
        "            index=last_row_day + 1,\n",
        "            value_input_option=\"RAW\",\n",
        "        )\n",
        "\n",
        "    return int(day_total)"
      ],
      "metadata": {
        "id": "yWirdvnjn7HV"
      },
      "execution_count": 9,
      "outputs": []
    },
    {
      "cell_type": "code",
      "source": [
        "# === 圓餅圖 & 種類統計表 ===\n",
        "def update_pie_chart(df, worksheet, year, month):\n",
        "    month_data = df[(df[\"日期_dt\"].dt.year == year) & (df[\"日期_dt\"].dt.month == month)]\n",
        "    month_data = month_data.loc[:, ~month_data.columns.duplicated()]\n",
        "\n",
        "    if \"種類\" not in month_data.columns or \"金額\" not in month_data.columns:\n",
        "        return\n",
        "\n",
        "    month_data[\"金額\"] = pd.to_numeric(month_data[\"金額\"], errors=\"coerce\").fillna(0)\n",
        "    cat_summary = month_data.groupby(\"種類\", as_index=False)[\"金額\"].sum()\n",
        "\n",
        "    worksheet.update(\"G1\", [[\"種類\", \"總金額\"]])\n",
        "    if not cat_summary.empty:\n",
        "        worksheet.update(f\"G2:H{len(cat_summary)+1}\", cat_summary.values.tolist())\n",
        "\n",
        "    chart_request = {\n",
        "        \"addChart\": {\n",
        "            \"chart\": {\n",
        "                \"spec\": {\n",
        "                    \"title\": f\"{year}-{month:02d} 各種類支出分布\",\n",
        "                    \"pieChart\": {\n",
        "                        \"legendPosition\": \"RIGHT_LEGEND\",\n",
        "                        \"domain\": {\n",
        "                            \"sourceRange\": {\n",
        "                                \"sources\": [{\n",
        "                                    \"sheetId\": worksheet.id,\n",
        "                                    \"startRowIndex\": 0,\n",
        "                                    \"endRowIndex\": len(cat_summary) + 1,\n",
        "                                    \"startColumnIndex\": 6,\n",
        "                                    \"endColumnIndex\": 7,\n",
        "                                }]\n",
        "                            }\n",
        "                        },\n",
        "                        \"series\": {\n",
        "                            \"sourceRange\": {\n",
        "                                \"sources\": [{\n",
        "                                    \"sheetId\": worksheet.id,\n",
        "                                    \"startRowIndex\": 0,\n",
        "                                    \"endRowIndex\": len(cat_summary) + 1,\n",
        "                                    \"startColumnIndex\": 7,\n",
        "                                    \"endColumnIndex\": 8,\n",
        "                                }]\n",
        "                            }\n",
        "                        },\n",
        "                        \"pieHole\": 0.3,\n",
        "                    },\n",
        "                },\n",
        "                \"position\": {\n",
        "                    \"overlayPosition\": {\n",
        "                        \"anchorCell\": {\"sheetId\": worksheet.id, \"rowIndex\": 0, \"columnIndex\": 9}\n",
        "                    }\n",
        "                },\n",
        "            }\n",
        "        }\n",
        "    }\n",
        "    gsheets.batch_update({\"requests\": [chart_request]})\n"
      ],
      "metadata": {
        "id": "L0gWSxMwoBl1"
      },
      "execution_count": 10,
      "outputs": []
    },
    {
      "cell_type": "code",
      "source": [
        "# === Gradio 介面 ===\n",
        "categories = [\"早餐\", \"午餐\", \"晚餐\", \"點心\", \"飲料\", \"衣服\", \"娛樂\", \"交通\"]\n",
        "\n",
        "def add_expense(date_str, time_str, item, category, amount):\n",
        "    try:\n",
        "        amount = float(amount)\n",
        "    except:\n",
        "        return \"❌ 金額必須是數字\"\n",
        "\n",
        "    if not date_str:\n",
        "        date_str = datetime.now().strftime(\"%Y-%m-%d\")\n",
        "    if not time_str:\n",
        "        time_str = datetime.now().strftime(\"%H:%M\")\n",
        "\n",
        "    worksheet.append_row([date_str, time_str, item, category, amount], value_input_option=\"RAW\")\n",
        "\n",
        "    sheets = worksheet.get_all_values()\n",
        "    df = pd.DataFrame(sheets[1:], columns=sheets[0])\n",
        "    df[\"金額\"] = df[\"金額\"].replace(r\"[^\\d.]+\", \"\", regex=True).astype(float)\n",
        "    df[\"日期_dt\"] = pd.to_datetime(df[\"日期\"], errors=\"coerce\")\n",
        "    df[\"日期_str\"] = df[\"日期_dt\"].dt.strftime(\"%Y-%m-%d\")\n",
        "\n",
        "    # 更新每日總結\n",
        "    day_total = update_day_total(df, worksheet, date_str)\n",
        "    year, month = df[\"日期_dt\"].dt.year.max(), df[\"日期_dt\"].dt.month.max()\n",
        "    update_pie_chart(df, worksheet, year, month)\n",
        "\n",
        "    return f\"✅ 已新增！今日總支出：{day_total} 元\"\n",
        "\n",
        "with gr.Blocks() as demo:\n",
        "    gr.Markdown(\"## 📝 記帳輸入 (寫入 Google 試算表)\")\n",
        "\n",
        "    with gr.Row():\n",
        "        date_str = gr.Textbox(label=\"日期 (YYYY-MM-DD)\", placeholder=\"2025-09-12\")\n",
        "        time_str = gr.Textbox(label=\"時間 (HH:MM)\", placeholder=\"14:30\")\n",
        "\n",
        "    with gr.Row():\n",
        "        item = gr.Textbox(label=\"品項\", placeholder=\"午餐\")\n",
        "        amount = gr.Textbox(label=\"金額\", placeholder=\"120\")\n",
        "\n",
        "    category = gr.Dropdown(choices=categories, label=\"種類\", value=\"午餐\")\n",
        "    output = gr.Textbox(label=\"系統訊息\")\n",
        "\n",
        "    submit = gr.Button(\"新增記錄 ✅\")\n",
        "    submit.click(fn=add_expense, inputs=[date_str, time_str, item, category, amount], outputs=output)\n",
        "\n",
        "demo.launch(share=True)\n"
      ],
      "metadata": {
        "colab": {
          "base_uri": "https://localhost:8080/",
          "height": 613
        },
        "id": "03YNvTVzoGr2",
        "outputId": "deb7532a-a896-4565-9687-4a0d08db52a3"
      },
      "execution_count": 13,
      "outputs": [
        {
          "output_type": "stream",
          "name": "stdout",
          "text": [
            "Colab notebook detected. To show errors in colab notebook, set debug=True in launch()\n",
            "* Running on public URL: https://06ee16cb79a30cdab9.gradio.live\n",
            "\n",
            "This share link expires in 1 week. For free permanent hosting and GPU upgrades, run `gradio deploy` from the terminal in the working directory to deploy to Hugging Face Spaces (https://huggingface.co/spaces)\n"
          ]
        },
        {
          "output_type": "display_data",
          "data": {
            "text/plain": [
              "<IPython.core.display.HTML object>"
            ],
            "text/html": [
              "<div><iframe src=\"https://06ee16cb79a30cdab9.gradio.live\" width=\"100%\" height=\"500\" allow=\"autoplay; camera; microphone; clipboard-read; clipboard-write;\" frameborder=\"0\" allowfullscreen></iframe></div>"
            ]
          },
          "metadata": {}
        },
        {
          "output_type": "execute_result",
          "data": {
            "text/plain": []
          },
          "metadata": {},
          "execution_count": 13
        }
      ]
    }
  ]
}