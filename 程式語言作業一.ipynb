{
  "nbformat": 4,
  "nbformat_minor": 0,
  "metadata": {
    "colab": {
      "provenance": [],
      "authorship_tag": "ABX9TyMOvplRNZTziWC708effeY+",
      "include_colab_link": true
    },
    "kernelspec": {
      "name": "python3",
      "display_name": "Python 3"
    },
    "language_info": {
      "name": "python"
    }
  },
  "cells": [
    {
      "cell_type": "markdown",
      "metadata": {
        "id": "view-in-github",
        "colab_type": "text"
      },
      "source": [
        "<a href=\"https://colab.research.google.com/github/xuanyu410/114-1PL-Repo/blob/main/%E7%A8%8B%E5%BC%8F%E8%AA%9E%E8%A8%80%E4%BD%9C%E6%A5%AD%E4%B8%80.ipynb\" target=\"_parent\"><img src=\"https://colab.research.google.com/assets/colab-badge.svg\" alt=\"Open In Colab\"/></a>"
      ]
    },
    {
      "cell_type": "markdown",
      "source": [
        "##個人記帳\n",
        "1.可自行加入日期時間或按enter輸入現在時間。\n",
        "2.輸入品項後可選擇屬於哪個種類，用於分析圖表。\n",
        "3.可計算出當日總額即當月總額。"
      ],
      "metadata": {
        "id": "ucb9Cr3IZgiH"
      }
    },
    {
      "cell_type": "code",
      "execution_count": 60,
      "metadata": {
        "id": "3ZujO9brXFIL"
      },
      "outputs": [],
      "source": [
        "from google.colab import auth\n",
        "auth.authenticate_user()\n",
        "\n",
        "import gspread\n",
        "from google.auth import default\n",
        "creds, _ = default()\n",
        "\n",
        "gc = gspread.authorize(creds)\n"
      ]
    },
    {
      "cell_type": "code",
      "source": [
        "import pandas as pd\n",
        "# read data and put it in a dataframe\n",
        "# 在 google 工作表載入 gsheets\n",
        "gsheets = gc.open_by_url('https://docs.google.com/spreadsheets/d/14qT33yoGpMBe868XI6yvd8Hy7DldM4RhovGYNRtCUMk/edit?hl=zh-tw&gid=0#gid=0')"
      ],
      "metadata": {
        "id": "EoEIhX9ddwLO"
      },
      "execution_count": 61,
      "outputs": []
    },
    {
      "cell_type": "code",
      "source": [
        "worksheet = gsheets.worksheet(\"工作表1\")\n",
        "headers = [\"日期\", \"時間\", \"品項\", \"種類\", \"金額\"]\n",
        "first_row = worksheet.row_values(1)\n",
        "if not first_row or first_row != headers:\n",
        "    worksheet.clear()\n",
        "    worksheet.append_row(headers)"
      ],
      "metadata": {
        "id": "kbqavbHRRw0h"
      },
      "execution_count": 68,
      "outputs": []
    },
    {
      "cell_type": "code",
      "source": [
        " from datetime import datetime\n",
        " date_str = input(\"請輸入日期 (格式：YYYY-MM-DD, Enter=今天): \")\n",
        "if date_str.strip() == \"\":\n",
        "    date_str = datetime.now().strftime(\"%Y-%m-%d\")\n",
        "else:\n",
        "    datetime.strptime(date_str, \"%Y-%m-%d\")\n",
        "\n",
        "# 時間\n",
        "time_str = input(\"請輸入時間 (格式：HH:MM, Enter=現在時間): \")\n",
        "if time_str.strip() == \"\":\n",
        "    time_str = datetime.now().strftime(\"%H:%M\")\n",
        "else:\n",
        "    datetime.strptime(time_str, \"%H:%M\")\n",
        "\n",
        "# 品項\n",
        "item = input(\"請輸入品項: \")\n",
        "\n",
        "# 金額\n",
        "amount = float(input(\"請輸入金額: \"))\n",
        "\n",
        "# 類別選單\n",
        "categories = [\"早餐\", \"午餐\", \"晚餐\", \"點心\", \"飲料\", \"衣服\", \"娛樂\", \"交通\"]\n",
        "print(\"請選擇種類：\")\n",
        "for i, c in enumerate(categories, 1):\n",
        "    print(f\"{i}. {c}\")\n",
        "choice = int(input(\"輸入數字選擇: \"))\n",
        "category = categories[choice - 1]\n",
        "worksheet.append_row([date_str, time_str, item, category, amount], value_input_option=\"USER_ENTERED\")\n",
        "print(\"✅ 新增成功！\")"
      ],
      "metadata": {
        "colab": {
          "base_uri": "https://localhost:8080/"
        },
        "id": "JRaWd9nFSDLO",
        "outputId": "be1a0d84-8ba5-4b00-871a-78191db3b02f"
      },
      "execution_count": 69,
      "outputs": [
        {
          "output_type": "stream",
          "name": "stdout",
          "text": [
            "請輸入日期 (格式：YYYY-MM-DD, Enter=今天): \n",
            "請輸入時間 (格式：HH:MM, Enter=現在時間): \n",
            "請輸入品項: 麵包\n",
            "請輸入金額: 57\n",
            "請選擇種類：\n",
            "1. 早餐\n",
            "2. 午餐\n",
            "3. 晚餐\n",
            "4. 點心\n",
            "5. 飲料\n",
            "6. 衣服\n",
            "7. 娛樂\n",
            "8. 交通\n",
            "輸入數字選擇: 1\n",
            "✅ 新增成功！\n"
          ]
        }
      ]
    },
    {
      "cell_type": "code",
      "source": [
        "sheets = worksheet.get_all_values()\n",
        "df = pd.DataFrame(sheets[1:], columns=sheets[0])\n",
        "df[\"金額\"] = df[\"金額\"].replace(r\"[^\\d.]+\", \"\", regex=True).astype(float)\n",
        "df[\"日期_dt\"] = pd.to_datetime(df[\"日期\"], errors=\"coerce\")\n",
        "df[\"日期_str\"] = df[\"日期_dt\"].dt.strftime(\"%Y-%m-%d\")\n"
      ],
      "metadata": {
        "id": "CKXTQrWYSGMI"
      },
      "execution_count": 70,
      "outputs": []
    },
    {
      "cell_type": "code",
      "source": [
        "today_str = datetime.now().strftime(\"%Y-%m-%d\")  # 或使用你輸入的 date_str\n",
        "today_total = df[df[\"日期_str\"] == today_str][\"金額\"].astype(float).sum()"
      ],
      "metadata": {
        "id": "t8FwcEKdSJWh"
      },
      "execution_count": 71,
      "outputs": []
    },
    {
      "cell_type": "code",
      "source": [
        "# 找當天的所有列\n",
        "rows = [i+2 for i, v in enumerate(df[\"日期\"]) if v == today]  # +2 因為 worksheet row 從1開始且有標題\n",
        "\n",
        "# 在最後一行新增「當天總支出」\n",
        "worksheet.append_row([today_str, \"\", \"當天總支出\", \"\", today_total], value_input_option=\"USER_ENTERED\")\n",
        "print(f\"📌 {today_str} 當天總支出已更新：{today_total} 元\")\n"
      ],
      "metadata": {
        "colab": {
          "base_uri": "https://localhost:8080/"
        },
        "id": "bDb6WMpFSL6o",
        "outputId": "008b8bb4-4d3c-4e36-a615-dcb9a4a8f214"
      },
      "execution_count": 72,
      "outputs": [
        {
          "output_type": "stream",
          "name": "stdout",
          "text": [
            "📌 2025-09-11 當天總支出已更新：92.0 元\n"
          ]
        }
      ]
    },
    {
      "cell_type": "code",
      "source": [
        "year = int(date_str[:4])\n",
        "month = int(date_str[5:7])\n",
        "month_total = df[(df[\"日期_dt\"].dt.year == year) & (df[\"日期_dt\"].dt.month == month)][\"金額\"].sum()\n",
        "print(f\"📌 {date_str[:7]} 當月總支出：{month_total} 元\")"
      ],
      "metadata": {
        "colab": {
          "base_uri": "https://localhost:8080/"
        },
        "id": "bIrLJeTUVcEC",
        "outputId": "5fef6e25-1716-44a7-d190-8574dc50cd24"
      },
      "execution_count": 73,
      "outputs": [
        {
          "output_type": "stream",
          "name": "stdout",
          "text": [
            "📌 2025-09 當月總支出：92.0 元\n"
          ]
        }
      ]
    }
  ]
}