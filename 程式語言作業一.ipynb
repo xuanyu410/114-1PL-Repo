{
  "nbformat": 4,
  "nbformat_minor": 0,
  "metadata": {
    "colab": {
      "provenance": [],
      "authorship_tag": "ABX9TyOSBUpyFE3vy8Z5hsYGiYWP",
      "include_colab_link": true
    },
    "kernelspec": {
      "name": "python3",
      "display_name": "Python 3"
    },
    "language_info": {
      "name": "python"
    }
  },
  "cells": [
    {
      "cell_type": "markdown",
      "metadata": {
        "id": "view-in-github",
        "colab_type": "text"
      },
      "source": [
        "<a href=\"https://colab.research.google.com/github/xuanyu410/114-1PL-Repo/blob/main/%E7%A8%8B%E5%BC%8F%E8%AA%9E%E8%A8%80%E4%BD%9C%E6%A5%AD%E4%B8%80.ipynb\" target=\"_parent\"><img src=\"https://colab.research.google.com/assets/colab-badge.svg\" alt=\"Open In Colab\"/></a>"
      ]
    },
    {
      "cell_type": "markdown",
      "source": [
        "#試算表個人記帳(作業一)\n",
        "##使用者輸入\n",
        "- 可自行加入日期時間或按enter輸入現在時間。\n",
        "- 輸入品項後可選擇屬於哪個種類，與輸入金額。\n",
        "##統計消費總額\n",
        "- 可計算出當日總額和當月總額。\n",
        "- 製作各種類總花費圓餅圖。\n",
        "- [試算表連結](https://docs.google.com/spreadsheets/d/1UIfts0iHJzLn6VdOeuT3WS7UKDEdS5dylr9WxK1BhFA/edit?gid=0#gid=0)"
      ],
      "metadata": {
        "id": "ucb9Cr3IZgiH"
      }
    },
    {
      "cell_type": "code",
      "source": [
        "from google.colab import auth\n",
        "auth.authenticate_user()\n",
        "\n",
        "import gspread\n",
        "from google.auth import default\n",
        "import pandas as pd\n",
        "from datetime import datetime\n",
        "import calendar\n"
      ],
      "metadata": {
        "id": "1jAtDj7YCZqZ"
      },
      "execution_count": 27,
      "outputs": []
    },
    {
      "cell_type": "code",
      "source": [
        "# === 驗證 Google Sheets ===\n",
        "creds, _ = default()\n",
        "gc = gspread.authorize(creds)\n",
        "gsheets = gc.open_by_url('https://docs.google.com/spreadsheets/d/1UIfts0iHJzLn6VdOeuT3WS7UKDEdS5dylr9WxK1BhFA/edit?gid=0#gid=0')\n",
        "\n",
        "worksheet = gsheets.worksheet(\"工作表1\")\n",
        "\n",
        "# === 檢查標題列 ===\n",
        "headers = [\"日期\", \"時間\", \"品項\", \"種類\", \"金額\"]\n",
        "first_row = worksheet.row_values(1)\n",
        "if not first_row or first_row != headers:\n",
        "    worksheet.clear()\n",
        "    worksheet.append_row(headers)\n"
      ],
      "metadata": {
        "id": "cdtqIWgXCcVB"
      },
      "execution_count": 28,
      "outputs": []
    },
    {
      "cell_type": "code",
      "source": [
        "# === 使用者輸入 ===\n",
        "date_str = input(\"請輸入日期 (格式：YYYY-MM-DD, Enter=今天): \").strip()\n",
        "if date_str == \"\":\n",
        "    date_str = datetime.now().strftime(\"%Y-%m-%d\")\n",
        "else:\n",
        "    datetime.strptime(date_str, \"%Y-%m-%d\")\n",
        "\n",
        "time_str = input(\"請輸入時間 (格式：HH:MM, Enter=現在時間): \").strip()\n",
        "if time_str == \"\":\n",
        "    time_str = datetime.now().strftime(\"%H:%M\")\n",
        "else:\n",
        "    datetime.strptime(time_str, \"%H:%M\")\n",
        "\n",
        "item = input(\"請輸入品項: \").strip()\n",
        "amount = float(input(\"請輸入金額: \"))\n",
        "\n",
        "categories = [\"早餐\", \"午餐\", \"晚餐\", \"點心\", \"飲料\", \"衣服\", \"娛樂\", \"交通\"]\n",
        "print(\"請選擇種類：\")\n",
        "for i, c in enumerate(categories, 1):\n",
        "    print(f\"{i}. {c}\")\n",
        "choice = int(input(\"輸入數字選擇: \"))\n",
        "category = categories[choice - 1]\n",
        "\n",
        "# === 新增資料到 Google Sheets (RAW 保證金額正確) ===\n",
        "worksheet.append_row([date_str, time_str, item, category, amount], value_input_option=\"RAW\")\n",
        "print(\"✅ 新增成功！\")\n"
      ],
      "metadata": {
        "id": "5PP99Rj-Ch2p",
        "outputId": "7a3a35b1-ac11-4b8d-e7e9-9feb4a2970a4",
        "colab": {
          "base_uri": "https://localhost:8080/"
        }
      },
      "execution_count": 34,
      "outputs": [
        {
          "output_type": "stream",
          "name": "stdout",
          "text": [
            "請輸入日期 (格式：YYYY-MM-DD, Enter=今天): \n",
            "請輸入時間 (格式：HH:MM, Enter=現在時間): \n",
            "請輸入品項: 咖哩\n",
            "請輸入金額: 120\n",
            "請選擇種類：\n",
            "1. 早餐\n",
            "2. 午餐\n",
            "3. 晚餐\n",
            "4. 點心\n",
            "5. 飲料\n",
            "6. 衣服\n",
            "7. 娛樂\n",
            "8. 交通\n",
            "輸入數字選擇: 3\n",
            "✅ 新增成功！\n"
          ]
        }
      ]
    },
    {
      "cell_type": "code",
      "source": [
        "# === 讀取 DataFrame ===\n",
        "sheets = worksheet.get_all_values()\n",
        "df = pd.DataFrame(sheets[1:], columns=sheets[0])\n",
        "df[\"金額\"] = df[\"金額\"].replace(r\"[^\\d.]+\", \"\", regex=True).astype(float)\n",
        "df[\"日期_dt\"] = pd.to_datetime(df[\"日期\"], errors=\"coerce\")\n",
        "df[\"日期_str\"] = df[\"日期_dt\"].dt.strftime(\"%Y-%m-%d\")"
      ],
      "metadata": {
        "id": "D7FREkQvCo6h"
      },
      "execution_count": 35,
      "outputs": []
    },
    {
      "cell_type": "code",
      "source": [
        "# === 更新每日總支出 ===\n",
        "def update_day_total(df, worksheet, date_str):\n",
        "    target_data = df[(df[\"日期_str\"] == date_str) & (df[\"品項\"] != \"當天總支出\")]\n",
        "    day_total = target_data[\"金額\"].sum()\n",
        "\n",
        "    # 找出當日最後一筆 row\n",
        "    rows = worksheet.findall(date_str)\n",
        "    last_row_day = rows[-1].row if rows else len(worksheet.get_all_values())\n",
        "\n",
        "    sheet_rows = worksheet.get_all_values()\n",
        "\n",
        "    # 更新或新增「當天總支出」\n",
        "    if last_row_day < len(sheet_rows) and \"當天總支出\" in sheet_rows[last_row_day]:\n",
        "        cell = f\"E{last_row_day + 1}\"  # 第 5 欄\n",
        "        worksheet.update(cell, [[day_total]], value_input_option=\"RAW\")\n",
        "        target_row = last_row_day + 1\n",
        "    else:\n",
        "        worksheet.insert_row([date_str, \"\", \"當天總支出\", \"\", day_total],\n",
        "                             index=last_row_day + 1,\n",
        "                             value_input_option=\"RAW\")\n",
        "        target_row = last_row_day + 1\n",
        "\n",
        "    print(f\"📌 {date_str} 的總支出已更新：{int(day_total)} 元\")\n",
        "    return day_total\n",
        "# 更新每日總結\n",
        "day_total = update_day_total(df, worksheet, date_str)\n"
      ],
      "metadata": {
        "id": "UarXAAAzCuF5",
        "outputId": "69ab87c4-4b61-4086-9dc1-e2b7d43d2295",
        "colab": {
          "base_uri": "https://localhost:8080/"
        }
      },
      "execution_count": 36,
      "outputs": [
        {
          "output_type": "stream",
          "name": "stdout",
          "text": [
            "📌 2025-09-17 的總支出已更新：185 元\n"
          ]
        }
      ]
    },
    {
      "cell_type": "code",
      "source": [
        "# === 更新每月總支出 ===\n",
        "def update_month_total(df, date_str):\n",
        "    year = int(date_str[:4])\n",
        "    month = int(date_str[5:7])\n",
        "    month_total = df[(df[\"日期_dt\"].dt.year == year) & (df[\"日期_dt\"].dt.month == month)][\"金額\"].sum()\n",
        "    print(f\"📌 {date_str[:7]} 當月總支出：{int(month_total)} 元\")\n",
        "    return year, month\n",
        "# 更新每月總結\n",
        "year, month = update_month_total(df, date_str)"
      ],
      "metadata": {
        "id": "olu5Tb8CCxWm",
        "outputId": "b4069cee-fc8d-43cb-8f8a-c3103852f3f4",
        "colab": {
          "base_uri": "https://localhost:8080/"
        }
      },
      "execution_count": 16,
      "outputs": [
        {
          "output_type": "stream",
          "name": "stdout",
          "text": [
            "📌 2025-09 當月總支出：890 元\n"
          ]
        }
      ]
    },
    {
      "cell_type": "code",
      "source": [
        "# === 更新圓餅圖 & 類別統計表 ===\n",
        "def update_pie_chart(df, worksheet, year, month):\n",
        "    # 篩選當月資料\n",
        "    month_data = df[(df[\"日期_dt\"].dt.year == year) & (df[\"日期_dt\"].dt.month == month)]\n",
        "\n",
        "    # 確保欄位唯一\n",
        "    month_data = month_data.loc[:, ~month_data.columns.duplicated()]\n",
        "\n",
        "    # 檢查必要欄位\n",
        "    if \"種類\" not in month_data.columns or \"金額\" not in month_data.columns:\n",
        "        print(\"⚠️ 缺少『種類』或『金額』欄位，無法更新統計\")\n",
        "        return\n",
        "\n",
        "    # 金額轉數字\n",
        "    month_data[\"金額\"] = pd.to_numeric(month_data[\"金額\"], errors=\"coerce\").fillna(0)\n",
        "\n",
        "    # 按種類統計總金額\n",
        "    cat_summary = month_data.groupby(\"種類\", as_index=False)[\"金額\"].sum()\n",
        "\n",
        "    # === 寫入統計表到 G 欄 ===\n",
        "    worksheet.update(\"G1\", [[\"種類\", \"總金額\"]])  # 標題\n",
        "    if not cat_summary.empty:\n",
        "        worksheet.update(f\"G2:H{len(cat_summary)+1}\", cat_summary.values.tolist())\n",
        "\n",
        "    # === 建立圓餅圖 (會覆蓋舊的) ===\n",
        "    chart_request = {\n",
        "        \"addChart\": {\n",
        "            \"chart\": {\n",
        "                \"spec\": {\n",
        "                    \"title\": f\"{year}-{month:02d} 各種類支出分布\",\n",
        "                    \"pieChart\": {\n",
        "                        \"legendPosition\": \"RIGHT_LEGEND\",\n",
        "                        \"domain\": {\n",
        "                            \"sourceRange\": {\n",
        "                                \"sources\": [{\n",
        "                                    \"sheetId\": worksheet.id,\n",
        "                                    \"startRowIndex\": 0,\n",
        "                                    \"endRowIndex\": len(cat_summary) + 1,\n",
        "                                    \"startColumnIndex\": 6,  # G 欄\n",
        "                                    \"endColumnIndex\": 7\n",
        "                                }]\n",
        "                            }\n",
        "                        },\n",
        "                        \"series\": {\n",
        "                            \"sourceRange\": {\n",
        "                                \"sources\": [{\n",
        "                                    \"sheetId\": worksheet.id,\n",
        "                                    \"startRowIndex\": 0,\n",
        "                                    \"endRowIndex\": len(cat_summary) + 1,\n",
        "                                    \"startColumnIndex\": 7,  # H 欄\n",
        "                                    \"endColumnIndex\": 8\n",
        "                                }]\n",
        "                            }\n",
        "                        },\n",
        "                        \"pieHole\": 0.3  # 甜甜圈\n",
        "                    }\n",
        "                },\n",
        "                \"position\": {\n",
        "                    \"overlayPosition\": {\n",
        "                        \"anchorCell\": {\n",
        "                            \"sheetId\": worksheet.id,\n",
        "                            \"rowIndex\": 0,\n",
        "                            \"columnIndex\": 9  # 圖表放在 J 欄\n",
        "                        }\n",
        "                    }\n",
        "                }\n",
        "            }\n",
        "        }\n",
        "    }\n",
        "\n",
        "    gsheets.batch_update({\"requests\": [chart_request]})\n",
        "    print(\"✅ 種類統計表 & 圓餅圖已更新！\")\n",
        "# ✅ 更新種類統計表 & 圓餅圖\n",
        "update_pie_chart(df, worksheet, year, month)"
      ],
      "metadata": {
        "id": "Zinc-c09C27B",
        "outputId": "4b15fbe5-8c03-4141-9009-9bf637bbe0ae",
        "colab": {
          "base_uri": "https://localhost:8080/"
        }
      },
      "execution_count": 37,
      "outputs": [
        {
          "output_type": "stream",
          "name": "stderr",
          "text": [
            "/tmp/ipython-input-2513705454.py:21: DeprecationWarning: The order of arguments in worksheet.update() has changed. Please pass values first and range_name secondor used named arguments (range_name=, values=)\n",
            "  worksheet.update(\"G1\", [[\"種類\", \"總金額\"]])  # 標題\n",
            "/tmp/ipython-input-2513705454.py:23: DeprecationWarning: The order of arguments in worksheet.update() has changed. Please pass values first and range_name secondor used named arguments (range_name=, values=)\n",
            "  worksheet.update(f\"G2:H{len(cat_summary)+1}\", cat_summary.values.tolist())\n"
          ]
        },
        {
          "output_type": "stream",
          "name": "stdout",
          "text": [
            "✅ 種類統計表 & 圓餅圖已更新！\n"
          ]
        }
      ]
    }
  ]
}