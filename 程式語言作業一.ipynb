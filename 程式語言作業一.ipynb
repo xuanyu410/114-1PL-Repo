{
  "nbformat": 4,
  "nbformat_minor": 0,
  "metadata": {
    "colab": {
      "provenance": [],
      "authorship_tag": "ABX9TyM7MPidQ18zpqfh+zk1ZMhV",
      "include_colab_link": true
    },
    "kernelspec": {
      "name": "python3",
      "display_name": "Python 3"
    },
    "language_info": {
      "name": "python"
    }
  },
  "cells": [
    {
      "cell_type": "markdown",
      "metadata": {
        "id": "view-in-github",
        "colab_type": "text"
      },
      "source": [
        "<a href=\"https://colab.research.google.com/github/xuanyu410/114-1PL-Repo/blob/main/%E7%A8%8B%E5%BC%8F%E8%AA%9E%E8%A8%80%E4%BD%9C%E6%A5%AD%E4%B8%80.ipynb\" target=\"_parent\"><img src=\"https://colab.research.google.com/assets/colab-badge.svg\" alt=\"Open In Colab\"/></a>"
      ]
    },
    {
      "cell_type": "markdown",
      "source": [
        "##試算表個人記帳\n",
        "- 可自行加入日期時間或按enter輸入現在時間。\n",
        "- 輸入品項後可選擇屬於哪個種類，用於分析圖表。\n",
        "- 可計算出當日總額即當月總額。\n",
        "- [試算表連結](https://docs.google.com/spreadsheets/d/14qT33yoGpMBe868XI6yvd8Hy7DldM4RhovGYNRtCUMk/edit?hl=zh-tw&gid=0#gid=0)"
      ],
      "metadata": {
        "id": "ucb9Cr3IZgiH"
      }
    },
    {
      "cell_type": "code",
      "execution_count": 74,
      "metadata": {
        "id": "3ZujO9brXFIL"
      },
      "outputs": [],
      "source": [
        "from google.colab import auth\n",
        "auth.authenticate_user()\n",
        "\n",
        "import gspread\n",
        "from google.auth import default\n",
        "creds, _ = default()\n",
        "\n",
        "gc = gspread.authorize(creds)\n"
      ]
    },
    {
      "cell_type": "code",
      "source": [
        "import pandas as pd\n",
        "# read data and put it in a dataframe\n",
        "# 在 google 工作表載入 gsheets\n",
        "gsheets = gc.open_by_url('https://docs.google.com/spreadsheets/d/14qT33yoGpMBe868XI6yvd8Hy7DldM4RhovGYNRtCUMk/edit?hl=zh-tw&gid=0#gid=0')"
      ],
      "metadata": {
        "id": "EoEIhX9ddwLO"
      },
      "execution_count": 75,
      "outputs": []
    },
    {
      "cell_type": "code",
      "source": [
        "worksheet = gsheets.worksheet(\"工作表1\")\n",
        "headers = [\"日期\", \"時間\", \"品項\", \"種類\", \"金額\"]\n",
        "first_row = worksheet.row_values(1)\n",
        "if not first_row or first_row != headers:\n",
        "    worksheet.clear()\n",
        "    worksheet.append_row(headers)"
      ],
      "metadata": {
        "id": "kbqavbHRRw0h"
      },
      "execution_count": 76,
      "outputs": []
    },
    {
      "cell_type": "code",
      "source": [
        " from datetime import datetime\n",
        " date_str = input(\"請輸入日期 (格式：YYYY-MM-DD, Enter=今天): \")\n",
        "if date_str.strip() == \"\":\n",
        "    date_str = datetime.now().strftime(\"%Y-%m-%d\")\n",
        "else:\n",
        "    datetime.strptime(date_str, \"%Y-%m-%d\")\n",
        "\n",
        "# 時間\n",
        "time_str = input(\"請輸入時間 (格式：HH:MM, Enter=現在時間): \")\n",
        "if time_str.strip() == \"\":\n",
        "    time_str = datetime.now().strftime(\"%H:%M\")\n",
        "else:\n",
        "    datetime.strptime(time_str, \"%H:%M\")\n",
        "\n",
        "# 品項\n",
        "item = input(\"請輸入品項: \")\n",
        "\n",
        "# 金額\n",
        "amount = float(input(\"請輸入金額: \"))\n",
        "\n",
        "# 類別選單\n",
        "categories = [\"早餐\", \"午餐\", \"晚餐\", \"點心\", \"飲料\", \"衣服\", \"娛樂\", \"交通\"]\n",
        "print(\"請選擇種類：\")\n",
        "for i, c in enumerate(categories, 1):\n",
        "    print(f\"{i}. {c}\")\n",
        "choice = int(input(\"輸入數字選擇: \"))\n",
        "category = categories[choice - 1]\n",
        "worksheet.append_row([date_str, time_str, item, category, amount], value_input_option=\"USER_ENTERED\")\n",
        "print(\"✅ 新增成功！\")"
      ],
      "metadata": {
        "colab": {
          "base_uri": "https://localhost:8080/"
        },
        "id": "JRaWd9nFSDLO",
        "outputId": "dba45c8b-a48b-4d10-f1da-bf613c7276eb"
      },
      "execution_count": 78,
      "outputs": [
        {
          "output_type": "stream",
          "name": "stdout",
          "text": [
            "請輸入日期 (格式：YYYY-MM-DD, Enter=今天): \n",
            "請輸入時間 (格式：HH:MM, Enter=現在時間): \n",
            "請輸入品項: 蛋糕\n",
            "請輸入金額: 20\n",
            "請選擇種類：\n",
            "1. 早餐\n",
            "2. 午餐\n",
            "3. 晚餐\n",
            "4. 點心\n",
            "5. 飲料\n",
            "6. 衣服\n",
            "7. 娛樂\n",
            "8. 交通\n",
            "輸入數字選擇: 4\n",
            "✅ 新增成功！\n"
          ]
        }
      ]
    },
    {
      "cell_type": "code",
      "source": [
        "# === 轉 DataFrame 處理 ===\n",
        "sheets = worksheet.get_all_values()\n",
        "df = pd.DataFrame(sheets[1:], columns=sheets[0])\n",
        "df[\"金額\"] = df[\"金額\"].replace(r\"[^\\d.]+\", \"\", regex=True).astype(float)\n",
        "df[\"日期_dt\"] = pd.to_datetime(df[\"日期\"], errors=\"coerce\")\n",
        "df[\"日期_str\"] = df[\"日期_dt\"].dt.strftime(\"%Y-%m-%d\")\n",
        "\n",
        "today_str = datetime.now().strftime(\"%Y-%m-%d\")"
      ],
      "metadata": {
        "id": "CKXTQrWYSGMI"
      },
      "execution_count": 79,
      "outputs": []
    },
    {
      "cell_type": "code",
      "source": [
        "\n",
        "## === 輸入想要加總的日期 ===\n",
        "date_str = input(\"請輸入要結算的日期 (格式：YYYY-MM-DD, Enter=今天): \")\n",
        "if date_str.strip() == \"\":\n",
        "    date_str = datetime.now().strftime(\"%Y-%m-%d\")\n",
        "else:\n",
        "    datetime.strptime(date_str, \"%Y-%m-%d\")  # 驗證格式\n",
        "\n",
        "# === 計算該日期的總支出 ===\n",
        "df[\"金額\"] = df[\"金額\"].replace(r\"[^\\d.]+\", \"\", regex=True).astype(float)\n",
        "df[\"日期_dt\"] = pd.to_datetime(df[\"日期\"], errors=\"coerce\")\n",
        "df[\"日期_str\"] = df[\"日期_dt\"].dt.strftime(\"%Y-%m-%d\")\n",
        "\n",
        "# 找出該日的所有資料（排除「當天總支出」）\n",
        "target_data = df[(df[\"日期_str\"] == date_str) & (df[\"品項\"] != \"當天總支出\")]\n",
        "day_total = target_data[\"金額\"].sum()\n",
        "\n",
        "# === 找該日最後一筆資料的位置 ===\n",
        "rows = worksheet.findall(date_str)\n",
        "last_row_day = rows[-1].row if rows else len(worksheet.get_all_values())\n",
        "\n",
        "# === 檢查下一行是否已有「當天總支出」 ===\n",
        "sheet_rows = len(worksheet.get_all_values())\n",
        "next_row_values = []\n",
        "if last_row_day + 1 <= sheet_rows:\n",
        "    next_row_values = worksheet.row_values(last_row_day + 1)\n",
        "\n",
        "if next_row_values and \"當天總支出\" in next_row_values:\n",
        "    # ✅ 已經有 → 更新金額\n",
        "    worksheet.update_cell(last_row_day + 1, 5, day_total)\n",
        "    target_row = last_row_day + 1\n",
        "else:\n",
        "    # ✅ 沒有 → 新增一列\n",
        "    worksheet.append_row([date_str, \"\", \"當天總支出\", \"\", day_total],\n",
        "                         value_input_option=\"USER_ENTERED\")\n",
        "    target_row = len(worksheet.get_all_values())\n",
        "\n",
        "# === 標記顏色（黃色底 + 粗體） ===\n",
        "fmt = {\n",
        "    \"backgroundColor\": {\"red\": 1, \"green\": 1, \"blue\": 0},  # 黃色\n",
        "    \"textFormat\": {\"bold\": True}\n",
        "}\n",
        "worksheet.format(f\"A{target_row}:E{target_row}\", fmt)\n",
        "\n",
        "print(f\"📌 {date_str} 的總支出已更新：{day_total} 元\")\n",
        "\n"
      ],
      "metadata": {
        "id": "t8FwcEKdSJWh",
        "outputId": "fc32ecac-454e-4cd4-ef11-0113af76e43a",
        "colab": {
          "base_uri": "https://localhost:8080/"
        }
      },
      "execution_count": 80,
      "outputs": [
        {
          "output_type": "stream",
          "name": "stdout",
          "text": [
            "請輸入要結算的日期 (格式：YYYY-MM-DD, Enter=今天): \n",
            "📌 2025-09-11 的總支出已更新：60.0 元\n"
          ]
        }
      ]
    },
    {
      "cell_type": "code",
      "source": [
        "# === 每月總結 ===\n",
        "year = int(date_str[:4])\n",
        "month = int(date_str[5:7])\n",
        "month_total = df[(df[\"日期_dt\"].dt.year == year) & (df[\"日期_dt\"].dt.month == month)][\"金額\"].sum()\n",
        "print(f\"📌 {date_str[:7]} 當月總支出：{month_total} 元\")"
      ],
      "metadata": {
        "colab": {
          "base_uri": "https://localhost:8080/"
        },
        "id": "bDb6WMpFSL6o",
        "outputId": "b16c7795-0c8e-438f-f784-63cf658d7a3c"
      },
      "execution_count": 81,
      "outputs": [
        {
          "output_type": "stream",
          "name": "stdout",
          "text": [
            "📌 2025-09 當月總支出：60.0 元\n"
          ]
        }
      ]
    },
    {
      "cell_type": "code",
      "source": [
        "from datetime import datetime\n",
        "import calendar\n",
        "\n",
        "# === 更新圓餅圖 (隨時更新) ===\n",
        "def update_pie_chart_direct(worksheet, year, month, last_row):\n",
        "    chart_request = {\n",
        "        \"addChart\": {\n",
        "            \"chart\": {\n",
        "                \"spec\": {\n",
        "                    \"title\": f\"{year}-{month:02d} 各種類支出分布\",\n",
        "                    \"pieChart\": {\n",
        "                        \"legendPosition\": \"RIGHT_LEGEND\",\n",
        "                        \"domain\": {\n",
        "                            \"sourceRange\": {\n",
        "                                \"sources\": [{\n",
        "                                    \"sheetId\": worksheet.id,\n",
        "                                    \"startRowIndex\": 1,           # 從第2列開始 (跳過標題)\n",
        "                                    \"endRowIndex\": last_row,      # 到最後一列\n",
        "                                    \"startColumnIndex\": 2,        # C 欄 (種類)\n",
        "                                    \"endColumnIndex\": 3\n",
        "                                }]\n",
        "                            }\n",
        "                        },\n",
        "                        \"series\": {\n",
        "                            \"sourceRange\": {\n",
        "                                \"sources\": [{\n",
        "                                    \"sheetId\": worksheet.id,\n",
        "                                    \"startRowIndex\": 1,\n",
        "                                    \"endRowIndex\": last_row,\n",
        "                                    \"startColumnIndex\": 4,        # E 欄 (金額)\n",
        "                                    \"endColumnIndex\": 5\n",
        "                                }]\n",
        "                            }\n",
        "                        },\n",
        "                        \"pieHole\": 0.3\n",
        "                    }\n",
        "                },\n",
        "                \"position\": {\n",
        "                    \"overlayPosition\": {\n",
        "                        \"anchorCell\": {\"sheetId\": worksheet.id, \"rowIndex\": 0, \"columnIndex\": 9}\n",
        "                    }\n",
        "                }\n",
        "            }\n",
        "        }\n",
        "    }\n",
        "    gsheets.batch_update({\"requests\": [chart_request]})\n",
        "    print(\"✅ 圓餅圖 (直接用原始資料區) 已更新\")\n",
        "\n",
        "    # === 每次輸入資料後都更新圓餅圖 ===\n",
        "year = int(date_str[:4])\n",
        "month = int(date_str[5:7])\n",
        "update_pie_chart(df, worksheet, year, month)"
      ],
      "metadata": {
        "colab": {
          "base_uri": "https://localhost:8080/"
        },
        "id": "bIrLJeTUVcEC",
        "outputId": "911cfe49-479e-43c1-82d2-8a512e1349b4"
      },
      "execution_count": 82,
      "outputs": [
        {
          "output_type": "stream",
          "name": "stderr",
          "text": [
            "/tmp/ipython-input-690839910.py:10: DeprecationWarning: The order of arguments in worksheet.update() has changed. Please pass values first and range_name secondor used named arguments (range_name=, values=)\n",
            "  worksheet.update(\"G1\", [[\"種類\", \"總金額\"]])\n",
            "/tmp/ipython-input-690839910.py:12: DeprecationWarning: The order of arguments in worksheet.update() has changed. Please pass values first and range_name secondor used named arguments (range_name=, values=)\n",
            "  worksheet.update(\"G2\", cat_summary.values.tolist())\n"
          ]
        },
        {
          "output_type": "stream",
          "name": "stdout",
          "text": [
            "✅ 圓餅圖已更新\n"
          ]
        }
      ]
    },
    {
      "cell_type": "code",
      "source": [
        "# === 生成折線圖 (月底觸發) ===\n",
        "def generate_line_chart(df, worksheet, year, month):\n",
        "    month_data = df[(df[\"日期_dt\"].dt.year == year) & (df[\"日期_dt\"].dt.month == month)]\n",
        "    day_summary = month_data.groupby(\"日期_str\")[\"金額\"].sum().reset_index()\n",
        "\n",
        "    # 寫入 J 欄\n",
        "    worksheet.update(\"J1\", [[\"日期\", \"總支出\"]])\n",
        "    if not day_summary.empty:\n",
        "        worksheet.update(\"J2\", day_summary.values.tolist())\n",
        "\n",
        "    # 建立折線圖\n",
        "    chart_request = {\n",
        "        \"addChart\": {\n",
        "            \"chart\": {\n",
        "                \"spec\": {\n",
        "                    \"title\": f\"{year}-{month:02d} 每日總支出折線圖\",\n",
        "                    \"basicChart\": {\n",
        "                        \"chartType\": \"LINE\",\n",
        "                        \"legendPosition\": \"BOTTOM_LEGEND\",\n",
        "                        \"axis\": [\n",
        "                            {\"position\": \"BOTTOM_AXIS\", \"title\": \"日期\"},\n",
        "                            {\"position\": \"LEFT_AXIS\", \"title\": \"支出金額\"}\n",
        "                        ],\n",
        "                        \"domains\": [{\n",
        "                            \"domain\": {\n",
        "                                \"sourceRange\": {\n",
        "                                    \"sources\": [{\"sheetId\": worksheet.id,\n",
        "                                                 \"startRowIndex\": 0,\n",
        "                                                 \"endRowIndex\": len(day_summary)+1,\n",
        "                                                 \"startColumnIndex\": 9,  # J\n",
        "                                                 \"endColumnIndex\": 10}]\n",
        "                                }\n",
        "                            }\n",
        "                        }],\n",
        "                        \"series\": [{\n",
        "                            \"series\": {\n",
        "                                \"sourceRange\": {\n",
        "                                    \"sources\": [{\"sheetId\": worksheet.id,\n",
        "                                                 \"startRowIndex\": 0,\n",
        "                                                 \"endRowIndex\": len(day_summary)+1,\n",
        "                                                 \"startColumnIndex\": 10,  # K\n",
        "                                                 \"endColumnIndex\": 11}]\n",
        "                                }\n",
        "                            }\n",
        "                        }]\n",
        "                    }\n",
        "                },\n",
        "                \"position\": {\n",
        "                    \"overlayPosition\": {\n",
        "                        \"anchorCell\": {\"sheetId\": worksheet.id, \"rowIndex\": 20, \"columnIndex\": 9}\n",
        "                    }\n",
        "                }\n",
        "            }\n",
        "        }\n",
        "    }\n",
        "    gsheets.batch_update({\"requests\": [chart_request]})\n",
        "    print(\"📊 折線圖已生成 (月底)\")\n",
        "    # === 如果是月底，生成折線圖 ===\n",
        "day = int(date_str[8:10])\n",
        "last_day = calendar.monthrange(year, month)[1]\n",
        "if day == last_day:\n",
        "    generate_line_chart(df, worksheet, year, month)"
      ],
      "metadata": {
        "id": "KEHMx6Ixwmm3"
      },
      "execution_count": 83,
      "outputs": []
    },
    {
      "cell_type": "code",
      "source": [],
      "metadata": {
        "id": "1gb581Asw5Tv"
      },
      "execution_count": null,
      "outputs": []
    },
    {
      "cell_type": "code",
      "source": [],
      "metadata": {
        "id": "nnd92ionwtVL"
      },
      "execution_count": null,
      "outputs": []
    }
  ]
}