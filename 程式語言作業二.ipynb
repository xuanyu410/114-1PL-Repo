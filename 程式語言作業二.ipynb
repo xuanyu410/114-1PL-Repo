{
  "nbformat": 4,
  "nbformat_minor": 0,
  "metadata": {
    "colab": {
      "provenance": [],
      "authorship_tag": "ABX9TyOPViU3aZ2R+TG7lGeGzxcT",
      "include_colab_link": true
    },
    "kernelspec": {
      "name": "python3",
      "display_name": "Python 3"
    },
    "language_info": {
      "name": "python"
    }
  },
  "cells": [
    {
      "cell_type": "markdown",
      "metadata": {
        "id": "view-in-github",
        "colab_type": "text"
      },
      "source": [
        "<a href=\"https://colab.research.google.com/github/xuanyu410/114-1PL-Repo/blob/main/%E7%A8%8B%E5%BC%8F%E8%AA%9E%E8%A8%80%E4%BD%9C%E6%A5%AD%E4%BA%8C.ipynb\" target=\"_parent\"><img src=\"https://colab.research.google.com/assets/colab-badge.svg\" alt=\"Open In Colab\"/></a>"
      ]
    },
    {
      "cell_type": "code",
      "source": [
        "!pip install -q google-generativeai"
      ],
      "metadata": {
        "id": "kB2C9WOHqcNa"
      },
      "execution_count": null,
      "outputs": []
    },
    {
      "cell_type": "code",
      "source": [
        "import gradio as gr\n",
        "import pandas as pd\n",
        "from google.colab import auth\n",
        "from google.auth import default\n",
        "\n",
        "# -*- coding: utf-8 -*-\n",
        "import gspread\n",
        "from datetime import datetime\n",
        "import google.generativeai as genai\n",
        "import os\n",
        "import json"
      ],
      "metadata": {
        "id": "_q3aBVAxqmTE"
      },
      "execution_count": null,
      "outputs": []
    },
    {
      "cell_type": "code",
      "source": [
        "from google.colab import userdata\n",
        "\n",
        "# 從 Colab Secrets 中獲取 API 金鑰\n",
        "api_key = userdata.get('repo')\n",
        "\n",
        "# 使用獲取的金鑰配置 genai\n",
        "genai.configure(api_key=api_key)\n",
        "\n",
        "model = genai.GenerativeModel('gemini-1.5-flash')"
      ],
      "metadata": {
        "id": "DOyvXxWRqqrY"
      },
      "execution_count": null,
      "outputs": []
    },
    {
      "cell_type": "code",
      "execution_count": null,
      "metadata": {
        "id": "zb6xGZAWf9u8"
      },
      "outputs": [],
      "source": [
        "# === 連線到試算表 ===\n",
        "SPREADSHEET_URL = \"https://docs.google.com/spreadsheets/d/1UIfts0iHJzLn6VdOeuT3WS7UKDEdS5dylr9WxK1BhFA/edit?gid=0#gid=0\"\n",
        "WORKSHEET_NAME = \"工作表2\"\n",
        "\n",
        "REQUIRED_COLUMNS = [\"日期\", \"科目\", \"作業成績\"]\n",
        "\n",
        "_auth_done = False\n",
        "_gc = None\n",
        "_ws = None\n"
      ]
    },
    {
      "cell_type": "code",
      "source": [
        "# --- 主要功能區塊 ---\n",
        "def get_user_grades():\n",
        "    \"\"\"\n",
        "    透過終端機輸入學生成績，直到使用者輸入 'q' 結束。\n",
        "    \"\"\"\n",
        "    print(\"--- 準備輸入成績。輸入 'q' 來停止。---\")\n",
        "    grades = []\n",
        "    while True:\n",
        "        subject = input(\"請輸入科目（或輸入 'q' 停止）：\")\n",
        "        if subject.lower() == 'q':\n",
        "            break\n",
        "\n",
        "        grade = input(f\"請輸入 {subject} 的成績：\")\n",
        "        try:\n",
        "            grade = int(grade)\n",
        "        except ValueError:\n",
        "            print(\"成績必須是數字。請重新輸入。\")\n",
        "            continue\n",
        "\n",
        "        today = datetime.now().strftime('%Y-%m-%d')\n",
        "        grades.append([today, subject, grade])\n",
        "        print(f\"已記錄：日期: {today}, 科目: {subject}, 成績: {grade}\\n\")\n",
        "\n",
        "    return grades"
      ],
      "metadata": {
        "id": "RrbViG-JrBu9"
      },
      "execution_count": null,
      "outputs": []
    },
    {
      "cell_type": "code",
      "source": [
        "def get_ai_summary(grades):\n",
        "    \"\"\"\n",
        "    呼叫 Gemini 模型來生成成績摘要與常見迷思。\n",
        "    \"\"\"\n",
        "    model = genai.GenerativeModel('gemini-1.5-flash')\n",
        "\n",
        "    # 準備給 AI 的提示\n",
        "    prompt_text = \"以下是學生的成績列表，請幫我根據這些成績，產出一個簡單的摘要與常見迷思整理（不評分，只做總結）。\\n\\n\"\n",
        "    for record in grades:\n",
        "        date, subject, grade = record\n",
        "        prompt_text += f\"日期：{date}, 科目：{subject}, 成績：{grade}\\n\"\n",
        "\n",
        "    print(\"\\n--- 正在呼叫 AI 模型生成摘要... ---\")\n",
        "    try:\n",
        "        response = model.generate_content(prompt_text)\n",
        "        summary = response.text\n",
        "        return summary\n",
        "    except Exception as e:\n",
        "        print(f\"呼叫 AI 時發生錯誤：{e}\")\n",
        "        return \"AI 摘要生成失敗。\""
      ],
      "metadata": {
        "id": "z4pvHQ6BrG9Z"
      },
      "execution_count": null,
      "outputs": []
    },
    {
      "cell_type": "code",
      "source": [
        "def main():\n",
        "    \"\"\"\n",
        "    主程式流程：輸入成績 -> 獲取 AI 摘要 -> 寫入 Google Sheet。\n",
        "    \"\"\"\n",
        "    try:\n",
        "        # 1. Google Sheet 身份驗證\n",
        "        auth.authenticate_user()\n",
        "\n",
        "        creds, _ = default()\n",
        "        gc = gspread.authorize(creds)\n",
        "\n",
        "        sh = gc.open_by_url(SPREADSHEET_URL)\n",
        "        ws = sh.worksheet(WORKSHEET_NAME)\n",
        "\n",
        "\n",
        "\n",
        "\n",
        "\n",
        "        print(\"--- Google Sheet 連線成功。---\")\n",
        "\n",
        "        # 2. 獲取使用者輸入的成績\n",
        "        new_grades = get_user_grades()\n",
        "\n",
        "        if not new_grades:\n",
        "            print(\"沒有輸入任何成績，程式結束。\")\n",
        "            return\n",
        "\n",
        "        # 3. 將新成績寫入 Google Sheet\n",
        "        ws.append_rows(new_grades)\n",
        "        print(\"\\n--- 成績已成功寫入 Google Sheet。---\")\n",
        "\n",
        "        # 4. 獲取 AI 摘要並寫入 Google Sheet\n",
        "        summary = get_ai_summary(new_grades)\n",
        "\n",
        "        # 尋找第一行空白列\n",
        "        next_row = len(ws.col_values(1)) + 1\n",
        "\n",
        "        # 使用 update_cell() 方法逐一更新儲存格\n",
        "        ws.update_cell(next_row, 1, datetime.now().strftime('%Y-%m-%d'))\n",
        "        ws.update_cell(next_row, 2, 'AI 摘要')\n",
        "\n",
        "        # 為了避免單元格內容過長，將摘要內容分成多行來寫入\n",
        "        summary_lines = summary.split('\\n')\n",
        "        for i, line in enumerate(summary_lines):\n",
        "            ws.update_cell(next_row + i, 3, line)\n",
        "\n",
        "        print(\"\\n--- AI 摘要已成功寫入 Google Sheet。---\")\n",
        "        print(\"以下是 AI 生成的摘要內容：\")\n",
        "        print(\"-\" * 50)\n",
        "        print(summary)\n",
        "        print(\"-\" * 50)\n",
        "\n",
        "    except gspread.exceptions.APIError as e:\n",
        "        print(f\"Google Sheets API 錯誤：{e.response.text}\")\n",
        "        print(\"請確認：\")\n",
        "        print(\"1. 您的服務帳戶金鑰檔案正確且未過期。\")\n",
        "        print(\"2. 您已將服務帳戶的 Email 地址（在 JSON 檔案中）分享給 Google Sheet，並給予編輯權限。\")\n",
        "    except Exception as e:\n",
        "        print(f\"發生未預期的錯誤：{e}\")\n",
        "\n",
        "if __name__ == \"__main__\":\n",
        "    main()"
      ],
      "metadata": {
        "colab": {
          "base_uri": "https://localhost:8080/",
          "height": 487
        },
        "id": "Nsp_YnTGrLPB",
        "outputId": "0a53ffe7-8685-4845-82d4-ed42b1ce2e07"
      },
      "execution_count": null,
      "outputs": [
        {
          "output_type": "stream",
          "name": "stdout",
          "text": [
            "--- Google Sheet 連線成功。---\n",
            "--- 準備輸入成績。輸入 'q' 來停止。---\n",
            "請輸入科目（或輸入 'q' 停止）：數學\n",
            "請輸入 數學 的成績：80\n",
            "已記錄：日期: 2025-09-25, 科目: 數學, 成績: 80\n",
            "\n",
            "請輸入科目（或輸入 'q' 停止）：q\n",
            "\n",
            "--- 成績已成功寫入 Google Sheet。---\n",
            "\n",
            "--- 正在呼叫 AI 模型生成摘要... ---\n",
            "\n",
            "--- AI 摘要已成功寫入 Google Sheet。---\n",
            "以下是 AI 生成的摘要內容：\n",
            "--------------------------------------------------\n",
            "**摘要：**\n",
            "\n",
            "2025年9月25日數學考試成績為80分。\n",
            "\n",
            "\n",
            "**常見迷思整理 (針對單一數據無法提出)：**\n",
            "\n",
            "由於僅提供一筆單一科目的成績數據，無法推論出任何常見的學習迷思。  要整理常見迷思，需要更多數據，例如：不同科目的成績、歷次考試的成績趨勢、學生自我評估、學習習慣等資訊。\n",
            "\n",
            "--------------------------------------------------\n"
          ]
        }
      ]
    }
  ]
}