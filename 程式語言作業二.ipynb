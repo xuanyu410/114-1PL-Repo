{
  "nbformat": 4,
  "nbformat_minor": 0,
  "metadata": {
    "colab": {
      "provenance": [],
      "authorship_tag": "ABX9TyNOzIFYkdVZ/HDOqwzv7JU1",
      "include_colab_link": true
    },
    "kernelspec": {
      "name": "python3",
      "display_name": "Python 3"
    },
    "language_info": {
      "name": "python"
    }
  },
  "cells": [
    {
      "cell_type": "markdown",
      "metadata": {
        "id": "view-in-github",
        "colab_type": "text"
      },
      "source": [
        "<a href=\"https://colab.research.google.com/github/xuanyu410/114-1PL-Repo/blob/main/%E7%A8%8B%E5%BC%8F%E8%AA%9E%E8%A8%80%E4%BD%9C%E6%A5%AD%E4%BA%8C.ipynb\" target=\"_parent\"><img src=\"https://colab.research.google.com/assets/colab-badge.svg\" alt=\"Open In Colab\"/></a>"
      ]
    },
    {
      "cell_type": "markdown",
      "source": [
        "##個人記帳與AI分析工具(作業二)\n",
        "將個人記帳加入分析工具，讓AI讀取前三十筆資料，分析用錢習慣。\n",
        "\n",
        "可選擇當日總支出與當月總支出進行圓餅圖與AI分析。\n",
        " - [試算表連結](https://docs.google.com/spreadsheets/d/1UIfts0iHJzLn6VdOeuT3WS7UKDEdS5dylr9WxK1BhFA/edit?gid=0#gid=0)\n",
        " - [使用者頁面連結](https://d3e1c68dcdfff03d7a.gradio.live)"
      ],
      "metadata": {
        "id": "KFymOGYHr-Vq"
      }
    },
    {
      "cell_type": "code",
      "source": [
        "!pip install -q gradio gspread pandas matplotlib pillow google-generativeai"
      ],
      "metadata": {
        "id": "kB2C9WOHqcNa"
      },
      "execution_count": 9,
      "outputs": []
    },
    {
      "cell_type": "code",
      "source": [
        "# === Google 驗證 ===\n",
        "from google.colab import auth\n",
        "auth.authenticate_user()\n",
        "\n",
        "import gspread\n",
        "from google.auth import default\n",
        "import pandas as pd\n",
        "from datetime import datetime\n",
        "import gradio as gr\n",
        "import matplotlib.pyplot as plt\n",
        "from io import BytesIO\n",
        "from PIL import Image\n",
        "import google.generativeai as genai\n",
        "from google.colab import userdata"
      ],
      "metadata": {
        "id": "_q3aBVAxqmTE"
      },
      "execution_count": 10,
      "outputs": []
    },
    {
      "cell_type": "code",
      "source": [
        "# === Gemini AI 設定 ===\n",
        "api_key = userdata.get(\"repo\")   # 在 Colab > 設定 > Secrects 放入 key\n",
        "genai.configure(api_key=api_key)\n",
        "gemini_model = genai.GenerativeModel(\"gemini-1.5-flash\")"
      ],
      "metadata": {
        "id": "L2AWZ4fQjt-t"
      },
      "execution_count": 11,
      "outputs": []
    },
    {
      "cell_type": "code",
      "execution_count": 12,
      "metadata": {
        "id": "zb6xGZAWf9u8"
      },
      "outputs": [],
      "source": [
        "# === 連線到試算表 ===\n",
        "creds, _ = default()\n",
        "gc = gspread.authorize(creds)\n",
        "\n",
        "SPREADSHEET_URL = \"https://docs.google.com/spreadsheets/d/1UIfts0iHJzLn6VdOeuT3WS7UKDEdS5dylr9WxK1BhFA/edit?gid=0#gid=0\"\n",
        "ss = gc.open_by_url(SPREADSHEET_URL)\n",
        "worksheet = ss.worksheet(\"工作表1\")\n",
        "\n",
        "# === 確保標題列 ===\n",
        "headers = [\"日期\", \"時間\", \"品項\", \"種類\", \"金額\"]\n",
        "if worksheet.row_values(1) != headers:\n",
        "    worksheet.clear()\n",
        "    worksheet.append_row(headers, value_input_option=\"RAW\")"
      ]
    },
    {
      "cell_type": "code",
      "source": [
        "# === 工具函式 ===\n",
        "def _read_sheet_to_df():\n",
        "    rows = worksheet.get_all_values()\n",
        "    if len(rows) <= 1:\n",
        "        return pd.DataFrame(columns=headers)\n",
        "    df = pd.DataFrame(rows[1:], columns=rows[0])\n",
        "    df = df.loc[:, ~df.columns.duplicated()].copy()\n",
        "    df[\"金額\"] = pd.to_numeric(df[\"金額\"].replace(r\"[^\\d.\\-]+\", \"\", regex=True), errors=\"coerce\").fillna(0.0)\n",
        "    df[\"日期_dt\"] = pd.to_datetime(df[\"日期\"], errors=\"coerce\")\n",
        "    df[\"日期_str\"] = df[\"日期_dt\"].dt.strftime(\"%Y-%m-%d\")\n",
        "    return df\n",
        "\n",
        "def _make_pie_image(summary, title=\"\"):\n",
        "    if summary.empty: return None\n",
        "    fig, ax = plt.subplots(figsize=(5,5))\n",
        "    ax.pie(summary[\"金額\"], labels=summary[\"種類\"], autopct=\"%1.1f%%\", startangle=90)\n",
        "    ax.set_title(title)\n",
        "    buf = BytesIO()\n",
        "    plt.tight_layout()\n",
        "    fig.savefig(buf, format=\"png\")\n",
        "    plt.close(fig)\n",
        "    buf.seek(0)\n",
        "    return Image.open(buf).convert(\"RGB\")\n",
        "    # 取出所有可選日期（字串格式）\n",
        "def get_all_dates():\n",
        "    df = _read_sheet_to_df()\n",
        "    if df.empty: return []\n",
        "    return sorted(df[\"日期_str\"].dropna().unique().tolist())\n",
        "\n",
        "# 取出所有可選月份（YYYY-MM 格式）\n",
        "def get_all_months():\n",
        "    df = _read_sheet_to_df()\n",
        "    if df.empty: return []\n",
        "    months = df[\"日期_dt\"].dropna().dt.to_period(\"M\").astype(str).unique().tolist()\n",
        "    return sorted(months)\n"
      ],
      "metadata": {
        "id": "RrbViG-JrBu9"
      },
      "execution_count": 23,
      "outputs": []
    },
    {
      "cell_type": "code",
      "source": [
        "# === 寫入支出 ===\n",
        "def add_expense(date_str, time_str, item, category, amount):\n",
        "    try:\n",
        "        amount_val = float(amount)\n",
        "    except:\n",
        "        return \"❌ 金額必須是數字\", None\n",
        "\n",
        "    if not date_str:\n",
        "        date_str = datetime.now().strftime(\"%Y-%m-%d\")\n",
        "    if not time_str:\n",
        "        time_str = datetime.now().strftime(\"%H:%M\")\n",
        "\n",
        "    worksheet.append_row([date_str, time_str, item, category, amount_val], value_input_option=\"RAW\")\n",
        "    return f\"✅ 已新增：{date_str} | {time_str} | {item} | {category} | {amount_val}\", None\n",
        "\n",
        "# === 查詢每日總支出 + AI ===\n",
        "def show_today_total(date_str):\n",
        "    df = _read_sheet_to_df()\n",
        "    if df.empty: return \"無資料\", None, \"AI 分析：無資料\"\n",
        "    target = df[df[\"日期_str\"] == date_str]\n",
        "    if target.empty: return f\"{date_str} 無資料\", None, \"AI 分析：無資料\"\n",
        "    total = target[\"金額\"].sum()\n",
        "    cat_summary = target.groupby(\"種類\", as_index=False)[\"金額\"].sum()\n",
        "    img = _make_pie_image(cat_summary, f\"{date_str} 各種類支出\")\n",
        "    msg = f\"📅 {date_str} 總支出：{int(total)} 元\\n\\n{cat_summary.to_string(index=False)}\"\n",
        "    ai_msg = ai_analyze_expenses(target)   # 🔥 在這裡呼叫 AI\n",
        "    return msg, img, ai_msg\n",
        "\n",
        "# === 查詢每月總支出 + AI ===\n",
        "def show_month_total(month_str):\n",
        "    try:\n",
        "        year, month = map(int, month_str.split(\"-\"))\n",
        "    except:\n",
        "        return \"❌ 輸入格式錯誤 (需 YYYY-MM)\", None, \"AI 分析：格式錯誤\"\n",
        "    df = _read_sheet_to_df()\n",
        "    if df.empty: return \"無資料\", None, \"AI 分析：無資料\"\n",
        "    target = df[(df[\"日期_dt\"].dt.year == year) & (df[\"日期_dt\"].dt.month == month)]\n",
        "    if target.empty: return f\"{month_str} 無資料\", None, \"AI 分析：無資料\"\n",
        "    total = target[\"金額\"].sum()\n",
        "    cat_summary = target.groupby(\"種類\", as_index=False)[\"金額\"].sum()\n",
        "    img = _make_pie_image(cat_summary, f\"{month_str} 各種類支出\")\n",
        "    msg = f\"🗓️ {month_str} 總支出：{int(total)} 元\\n\\n{cat_summary.to_string(index=False)}\"\n",
        "    ai_msg = ai_analyze_expenses(target)   # 🔥 在這裡呼叫 AI\n",
        "    return msg, img, ai_msg\n",
        "\n",
        "# === 日期時間按鈕 ===\n",
        "def fill_today(): return datetime.now().strftime(\"%Y-%m-%d\")\n",
        "def fill_nowtime(): return datetime.now().strftime(\"%H:%M\")\n"
      ],
      "metadata": {
        "id": "nAtfdFJjbTlK"
      },
      "execution_count": 24,
      "outputs": []
    },
    {
      "cell_type": "code",
      "source": [
        "# === AI 分析支出 (接收 DataFrame 而不是自己重讀) ===\n",
        "def ai_analyze_expenses(df):\n",
        "    if df.empty:\n",
        "        return \"目前沒有任何支出紀錄。\"\n",
        "    records = df.tail(30).to_string(index=False)\n",
        "    prompt = f\"以下是最近的消費紀錄，請分析我的花費習慣，指出主要花在哪些類別，並提供省錢建議：\\n\\n{records}\"\n",
        "    try:\n",
        "        response = gemini_model.generate_content(prompt)\n",
        "        return getattr(response, \"text\", response.candidates[0].content.parts[0].text)\n",
        "    except Exception as e:\n",
        "        return f\"AI 分析失敗：{e}\"\n"
      ],
      "metadata": {
        "id": "Bfb5x9g6j0EG"
      },
      "execution_count": 25,
      "outputs": []
    },
    {
      "cell_type": "code",
      "source": [
        "# === Gradio UI ===\n",
        "categories = [\"早餐\", \"午餐\", \"晚餐\", \"點心\", \"飲料\", \"衣服\", \"娛樂\", \"交通\"]\n",
        "\n",
        "with gr.Blocks() as demo:\n",
        "    gr.Markdown(\"## 📝 個人記帳系統 + AI 分析\")\n",
        "\n",
        "    with gr.Tab(\"新增支出\"):\n",
        "        with gr.Row():\n",
        "            date_in = gr.Textbox(label=\"日期 (YYYY-MM-DD)\")\n",
        "            btn_today = gr.Button(\"📅 今天\")\n",
        "            time_in = gr.Textbox(label=\"時間 (HH:MM)\")\n",
        "            btn_now = gr.Button(\"⏰ 現在時間\")\n",
        "        item_in = gr.Textbox(label=\"品項\")\n",
        "        amount_in = gr.Textbox(label=\"金額\")\n",
        "        cat_in = gr.Dropdown(choices=categories, label=\"種類\", value=\"午餐\")\n",
        "        submit_btn = gr.Button(\"✅ 新增記錄\")\n",
        "        out_text = gr.Textbox(label=\"結果\")\n",
        "        out_img = gr.Image(label=\"回饋圖\", visible=False)  # 預留\n",
        "\n",
        "        btn_today.click(fn=fill_today, inputs=None, outputs=date_in)\n",
        "        btn_now.click(fn=fill_nowtime, inputs=None, outputs=time_in)\n",
        "        submit_btn.click(add_expense, [date_in,time_in,item_in,cat_in,amount_in], [out_text,out_img])\n",
        "\n",
        "\n",
        "    with gr.Tab(\"查詢當日總支出\"):\n",
        "        date_q = gr.Dropdown(choices=[], label=\"選擇日期\")\n",
        "        btn_load_dates = gr.Button(\"🔄 更新日期列表\")\n",
        "        btn_day = gr.Button(\"📅 查詢當日總支出\")\n",
        "        day_out = gr.Textbox(label=\"結果\")\n",
        "        day_img = gr.Image(label=\"圓餅圖\")\n",
        "        ai_day_out = gr.Textbox(label=\"AI 分析\", lines=8)\n",
        "\n",
        "        # 綁定事件 (注意縮排在 Tab 裡)\n",
        "        btn_load_dates.click(\n",
        "            fn=lambda: gr.update(choices=get_all_dates()),\n",
        "            inputs=None, outputs=date_q\n",
        "        )\n",
        "        btn_day.click(\n",
        "            show_today_total, [date_q], [day_out, day_img, ai_day_out]\n",
        "        )\n",
        "\n",
        "    with gr.Tab(\"查詢當月總支出\"):\n",
        "        month_q = gr.Dropdown(choices=[], label=\"選擇月份 (YYYY-MM)\")\n",
        "        btn_load_months = gr.Button(\"🔄 更新月份列表\")\n",
        "        btn_month = gr.Button(\"🗓️ 查詢當月總支出\")\n",
        "        month_out = gr.Textbox(label=\"結果\")\n",
        "        month_img = gr.Image(label=\"圓餅圖\")\n",
        "        ai_month_out = gr.Textbox(label=\"AI 分析\", lines=8)\n",
        "\n",
        "        # 綁定事件 (同樣在 Tab 裡)\n",
        "        btn_load_months.click(\n",
        "            fn=lambda: gr.update(choices=get_all_months()),\n",
        "            inputs=None, outputs=month_q\n",
        "        )\n",
        "        btn_month.click(\n",
        "            show_month_total, [month_q], [month_out, month_img, ai_month_out]\n",
        "        )\n",
        "\n",
        "demo.launch(share=True)"
      ],
      "metadata": {
        "colab": {
          "base_uri": "https://localhost:8080/",
          "height": 613
        },
        "id": "Tq9Cos-zfSvP",
        "outputId": "b57b782b-5e8e-486d-aa8a-3a4a0ef1efa7"
      },
      "execution_count": 36,
      "outputs": [
        {
          "output_type": "stream",
          "name": "stdout",
          "text": [
            "Colab notebook detected. To show errors in colab notebook, set debug=True in launch()\n",
            "* Running on public URL: https://e23b2f5dd3b2074acd.gradio.live\n",
            "\n",
            "This share link expires in 1 week. For free permanent hosting and GPU upgrades, run `gradio deploy` from the terminal in the working directory to deploy to Hugging Face Spaces (https://huggingface.co/spaces)\n"
          ]
        },
        {
          "output_type": "display_data",
          "data": {
            "text/plain": [
              "<IPython.core.display.HTML object>"
            ],
            "text/html": [
              "<div><iframe src=\"https://e23b2f5dd3b2074acd.gradio.live\" width=\"100%\" height=\"500\" allow=\"autoplay; camera; microphone; clipboard-read; clipboard-write;\" frameborder=\"0\" allowfullscreen></iframe></div>"
            ]
          },
          "metadata": {}
        },
        {
          "output_type": "execute_result",
          "data": {
            "text/plain": []
          },
          "metadata": {},
          "execution_count": 36
        }
      ]
    }
  ]
}